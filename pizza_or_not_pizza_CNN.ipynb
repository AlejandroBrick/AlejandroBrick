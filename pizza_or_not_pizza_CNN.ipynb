{
  "nbformat": 4,
  "nbformat_minor": 0,
  "metadata": {
    "colab": {
      "provenance": []
    },
    "kernelspec": {
      "name": "python3",
      "display_name": "Python 3"
    },
    "language_info": {
      "name": "python"
    }
  },
  "cells": [
    {
      "cell_type": "code",
      "execution_count": null,
      "metadata": {
        "id": "xwaosTk7edFh"
      },
      "outputs": [],
      "source": [
        "# CNN Model\n",
        "!pip install tensorflow tensorflow-gpu opencv-python matplotlib"
      ]
    },
    {
      "cell_type": "code",
      "source": [
        "# list\n",
        "!pip list"
      ],
      "metadata": {
        "id": "QstO7j7NZkY1"
      },
      "execution_count": null,
      "outputs": []
    },
    {
      "cell_type": "code",
      "source": [
        "# Importing tensor flow Library and os\n",
        "import tensorflow as tf\n",
        "import os"
      ],
      "metadata": {
        "id": "paPfJ90KZkfZ"
      },
      "execution_count": null,
      "outputs": []
    },
    {
      "cell_type": "code",
      "source": [
        "# Avoid OOM errors by setting GPU Memory Consumption Growth\n",
        "gpus = tf.config.experimental.list_physical_devices('GPU')\n",
        "for gpu in gpus: \n",
        "    tf.config.experimental.set_memory_growth(gpu, True)"
      ],
      "metadata": {
        "id": "J0qcq5h9Zkkk"
      },
      "execution_count": null,
      "outputs": []
    },
    {
      "cell_type": "code",
      "source": [
        "tf.config.list_physical_devices('GPU')"
      ],
      "metadata": {
        "id": "B0G444BxZkps"
      },
      "execution_count": null,
      "outputs": []
    },
    {
      "cell_type": "code",
      "source": [
        "# Remove Dodgy Images\n",
        "import cv2\n",
        "import imghdr"
      ],
      "metadata": {
        "id": "ICQCobqsZktG"
      },
      "execution_count": null,
      "outputs": []
    },
    {
      "cell_type": "code",
      "source": [
        "# data contains two folders in the simplest implementation. Should cover different data types for the photos.There can be more branches for data,\n",
        "# a seperate folder for each category(\"Chicken\",\"Pasta\",\"ribs\", etc)\n",
        "#      (data)\n",
        "#      /    \\\n",
        "#(Pizza)  (Not_pizza)\n",
        "data_dir = 'data' \n",
        "image_exts = ['jpeg','jpg', 'bmp', 'png']"
      ],
      "metadata": {
        "id": "YPx0qOfWZkwC"
      },
      "execution_count": null,
      "outputs": []
    },
    {
      "cell_type": "code",
      "source": [
        "# ----------------------------------------------------------------------\n",
        "for image_class in os.listdir(data_dir): \n",
        "    for image in os.listdir(os.path.join(data_dir, image_class)):\n",
        "        image_path = os.path.join(data_dir, image_class, image)\n",
        "        try: \n",
        "            img = cv2.imread(image_path)\n",
        "            tip = imghdr.what(image_path)\n",
        "            if tip not in image_exts: \n",
        "                print('Image not in ext list {}'.format(image_path))\n",
        "                os.remove(image_path)\n",
        "        except Exception as e: \n",
        "            print('Issue with image {}'.format(image_path))\n",
        "            # os.remove(image_path)"
      ],
      "metadata": {
        "id": "NlPQxw4mZkyn"
      },
      "execution_count": null,
      "outputs": []
    },
    {
      "cell_type": "code",
      "source": [
        "# Loading Data\n",
        "import numpy as np\n",
        "from matplotlib import pyplot as plt\n",
        "\n",
        "data = tf.keras.utils.image_dataset_from_directory('data')    # should  let you know how many files are read after this line"
      ],
      "metadata": {
        "id": "tWFkwfV-Zk1c"
      },
      "execution_count": null,
      "outputs": []
    },
    {
      "cell_type": "code",
      "source": [
        "data_iterator = data.as_numpy_iterator()\n",
        "batch = data_iterator.next()"
      ],
      "metadata": {
        "id": "N0S538dLZk4A"
      },
      "execution_count": null,
      "outputs": []
    },
    {
      "cell_type": "code",
      "source": [
        "# analyzes the photos in a frame from 0-255 pixels \n",
        "fig, ax = plt.subplots(ncols=4, figsize=(20,20))\n",
        "for idx, img in enumerate(batch[0][:4]):\n",
        "    ax[idx].imshow(img.astype(int))\n",
        "    ax[idx].title.set_text(batch[1][idx])"
      ],
      "metadata": {
        "id": "zLZN05G0Zk6m"
      },
      "execution_count": null,
      "outputs": []
    },
    {
      "cell_type": "code",
      "source": [
        "#Scaling the data\n",
        "data = data.map(lambda x,y: (x/255, y))\n",
        "data.as_numpy_iterator().next()"
      ],
      "metadata": {
        "id": "YFr_7xiBZk9C"
      },
      "execution_count": null,
      "outputs": []
    },
    {
      "cell_type": "code",
      "source": [
        "# Splitting the Data\n",
        "rain_size = int(len(data)*.7)\n",
        "val_size = int(len(data)*.2)\n",
        "test_size = int(len(data)*.1)"
      ],
      "metadata": {
        "id": "1sd4bNvXZk_2"
      },
      "execution_count": null,
      "outputs": []
    },
    {
      "cell_type": "code",
      "source": [
        "# Gives training size\n",
        "train_size    "
      ],
      "metadata": {
        "id": "7LcM9uAVZlC6"
      },
      "execution_count": null,
      "outputs": []
    },
    {
      "cell_type": "code",
      "source": [
        "train = data.take(train_size)\n",
        "val = data.skip(train_size).take(val_size)\n",
        "test = data.skip(train_size+val_size).take(test_size)"
      ],
      "metadata": {
        "id": "pxy-Zc4dZlFn"
      },
      "execution_count": null,
      "outputs": []
    },
    {
      "cell_type": "code",
      "source": [
        "# Building Deep Learning Model\n",
        "from tensorflow.keras.models import Sequential\n",
        "from tensorflow.keras.layers import Conv2D, MaxPooling2D, Dense, Flatten, Dropout"
      ],
      "metadata": {
        "id": "I3pnRUZVZlIL"
      },
      "execution_count": null,
      "outputs": []
    },
    {
      "cell_type": "code",
      "source": [
        "#---------------------------------------------------------------------------------\n",
        "model = Sequential()\n",
        "model.add(Conv2D(16, (3,3), 1, activation='leaky_relu', input_shape=(256,256,3)))\n",
        "model.add(MaxPooling2D())\n",
        "model.add(Conv2D(32, (3,3), 1, activation='leaky_relu'))\n",
        "model.add(MaxPooling2D())\n",
        "model.add(Conv2D(16, (3,3), 1, activation='relu'))\n",
        "model.add(MaxPooling2D())\n",
        "model.add(Flatten())\n",
        "model.add(Dense(256, activation='leaky_relu'))\n",
        "model.add(Dense(1, activation='sigmoid'))\n",
        "model.compile('adam', loss=tf.losses.BinaryCrossentropy(), metrics=['accuracy'])"
      ],
      "metadata": {
        "id": "9nP7gubccoPT"
      },
      "execution_count": null,
      "outputs": []
    },
    {
      "cell_type": "code",
      "source": [
        "# View Summary\n",
        "model.summary()"
      ],
      "metadata": {
        "id": "yP1XKc1UcoSU"
      },
      "execution_count": null,
      "outputs": []
    },
    {
      "cell_type": "code",
      "source": [
        "# Training the data\n",
        "logdir='logs'\n",
        "tensorboard_callback = tf.keras.callbacks.TensorBoard(log_dir=logdir)\n",
        "hist = model.fit(train, epochs=5, validation_data=val, callbacks=[tensorboard_callback])"
      ],
      "metadata": {
        "id": "mBOqnSqccoU-"
      },
      "execution_count": null,
      "outputs": []
    },
    {
      "cell_type": "code",
      "source": [
        "# Plotting Performance\n",
        "fig = plt.figure()\n",
        "plt.plot(hist.history['loss'], color='teal', label='loss')\n",
        "plt.plot(hist.history['val_loss'], color='orange', label='val_loss')\n",
        "fig.suptitle('Loss', fontsize=20)\n",
        "plt.legend(loc=\"upper left\")\n",
        "\n",
        "fig = plt.figure()\n",
        "plt.plot(hist.history['accuracy'], color='teal', label='accuracy')\n",
        "plt.plot(hist.history['val_accuracy'], color='orange', label='val_accuracy')\n",
        "fig.suptitle('Accuracy', fontsize=20)\n",
        "plt.legend(loc=\"upper left\")\n",
        "\n",
        "plt.show()"
      ],
      "metadata": {
        "id": "mWpK1dbRdaE_"
      },
      "execution_count": null,
      "outputs": []
    },
    {
      "cell_type": "code",
      "source": [
        "# Evaluating Data\n",
        "from tensorflow.keras.metrics import Precision, Recall, BinaryAccuracy\n",
        "pre = Precision()\n",
        "re = Recall()\n",
        "acc = BinaryAccuracy()\n",
        "for batch in test.as_numpy_iterator(): \n",
        "    X, y = batch\n",
        "    yhat = model.predict(X)\n",
        "    pre.update_state(y, yhat)\n",
        "    re.update_state(y, yhat)\n",
        "    acc.update_state(y, yhat)"
      ],
      "metadata": {
        "id": "49p8JuNUcoXW"
      },
      "execution_count": null,
      "outputs": []
    },
    {
      "cell_type": "code",
      "source": [
        "print(pre.result(), re.result(), acc.result())"
      ],
      "metadata": {
        "id": "pzi2wE_ecoaI"
      },
      "execution_count": null,
      "outputs": []
    },
    {
      "cell_type": "code",
      "source": [
        "# Testing\n",
        "import cv2"
      ],
      "metadata": {
        "id": "3c_xBaGacocw"
      },
      "execution_count": null,
      "outputs": []
    },
    {
      "cell_type": "code",
      "source": [
        "img = cv2.imread('pizza.jpg')\n",
        "plt.imshow(cv2.cvtColor(img,cv2.COLOR_BGR2RGB))   # convert BGR to RGB so we can see it normally \n",
        "plt.show()"
      ],
      "metadata": {
        "id": "-vRrftNocofW"
      },
      "execution_count": null,
      "outputs": []
    },
    {
      "cell_type": "code",
      "source": [
        "resize = tf.image.resize(img, (256,256))    ## resizing image for testing \n",
        "plt.imshow(resize.numpy().astype(int))\n",
        "plt.show()"
      ],
      "metadata": {
        "id": "Pg54Rl2QeAxX"
      },
      "execution_count": null,
      "outputs": []
    },
    {
      "cell_type": "code",
      "source": [
        "y = model.predict(np.expand_dims(resize/255, 0))"
      ],
      "metadata": {
        "id": "ghp3QA2FeA17"
      },
      "execution_count": null,
      "outputs": []
    },
    {
      "cell_type": "code",
      "source": [
        "# These might be switched, sry lol\n",
        "if y > 0.5: \n",
        "    print(f'pizza')\n",
        "else:\n",
        "    print(f'not pizza')"
      ],
      "metadata": {
        "id": "QRe_idO-eA5b"
      },
      "execution_count": null,
      "outputs": []
    },
    {
      "cell_type": "code",
      "source": [
        "# Can Continue Testing From Here"
      ],
      "metadata": {
        "id": "z_E_iGwGeA8R"
      },
      "execution_count": null,
      "outputs": []
    },
    {
      "cell_type": "markdown",
      "source": [
        "# New Section"
      ],
      "metadata": {
        "id": "OwjHz_5fenD8"
      }
    }
  ]
}